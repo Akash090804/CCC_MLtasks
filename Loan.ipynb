{
 "cells": [
  {
   "cell_type": "code",
   "execution_count": null,
   "id": "b323f26e-2149-4404-b91a-16967c0117b5",
   "metadata": {},
   "outputs": [
    {
     "name": "stdout",
     "output_type": "stream",
     "text": [
      "Requirement already satisfied: pandas in c:\\users\\akash\\anaconda3\\lib\\site-packages (2.2.2)\n",
      "Requirement already satisfied: numpy>=1.26.0 in c:\\users\\akash\\anaconda3\\lib\\site-packages (from pandas) (1.26.4)\n",
      "Requirement already satisfied: python-dateutil>=2.8.2 in c:\\users\\akash\\anaconda3\\lib\\site-packages (from pandas) (2.9.0.post0)\n",
      "Requirement already satisfied: pytz>=2020.1 in c:\\users\\akash\\anaconda3\\lib\\site-packages (from pandas) (2024.1)\n",
      "Requirement already satisfied: tzdata>=2022.7 in c:\\users\\akash\\anaconda3\\lib\\site-packages (from pandas) (2023.3)\n",
      "Requirement already satisfied: six>=1.5 in c:\\users\\akash\\anaconda3\\lib\\site-packages (from python-dateutil>=2.8.2->pandas) (1.16.0)\n"
     ]
    }
   ],
   "source": [
    "! pip install pandas\n",
    "! pip install numpy \n",
    "! pip install seaborn\n",
    "! pip install matplotlib"
   ]
  },
  {
   "cell_type": "code",
   "execution_count": null,
   "id": "5d319d2d-d064-47c4-9843-4da8888383c8",
   "metadata": {},
   "outputs": [],
   "source": [
    "import pandas as pd\n",
    "import numpy as np\n",
    "import seaborn as sns \n",
    "import matplotlib.pyplot as plt"
   ]
  },
  {
   "cell_type": "code",
   "execution_count": null,
   "id": "bca77054-fd76-4f81-b6a3-adcebd23396f",
   "metadata": {},
   "outputs": [],
   "source": [
    "df=pd.read_csv('LoanDataset.csv')\n",
    "df"
   ]
  },
  {
   "cell_type": "code",
   "execution_count": null,
   "id": "3d43d281-e697-4f82-b0d5-57df5b62f3c0",
   "metadata": {},
   "outputs": [],
   "source": [
    "df.shape"
   ]
  },
  {
   "cell_type": "code",
   "execution_count": null,
   "id": "fe70bb67-a644-4606-a86c-1779a765f897",
   "metadata": {},
   "outputs": [],
   "source": [
    "df.sample(10)"
   ]
  },
  {
   "cell_type": "code",
   "execution_count": null,
   "id": "869e4198-00ac-40b8-8e73-4b5db5c1c0f5",
   "metadata": {},
   "outputs": [],
   "source": [
    "df['Loan_Amount_Term'].value_counts()"
   ]
  },
  {
   "cell_type": "code",
   "execution_count": null,
   "id": "ac6fdde4-cf7c-4b83-bcb0-ddd4f08cae80",
   "metadata": {},
   "outputs": [],
   "source": [
    "df.info()"
   ]
  },
  {
   "cell_type": "code",
   "execution_count": null,
   "id": "bd555e5c-ee81-4f49-a7e4-9141d299935f",
   "metadata": {},
   "outputs": [],
   "source": [
    "df.isnull().sum()"
   ]
  },
  {
   "cell_type": "code",
   "execution_count": null,
   "id": "5ac8598c-d065-409d-8f90-41d30105ef63",
   "metadata": {},
   "outputs": [],
   "source": [
    "df.duplicated().sum()"
   ]
  },
  {
   "cell_type": "markdown",
   "id": "85bcebb2-2663-4b3e-a9bc-a8f1a62e2e84",
   "metadata": {},
   "source": [
    "### There are certain null values that are to be treated during data preprocessing \n",
    "1. Gender - 13\n",
    "2. Married -3\n",
    "3. Dependents - 15\n",
    "4. Self_Employed - 32\n",
    "5. LoanAmount -22 (Numerical data)\n",
    "6. Loan_Amount_Term - 14\n",
    "7. Credit History - 50 <!-- it has Maximum missing values amongst all-->\n",
    " \n",
    " \n",
    " NO Duplicate value is present in the dataset "
   ]
  },
  {
   "cell_type": "markdown",
   "id": "a87e9322-9ad2-49f4-8113-e9df14c98b61",
   "metadata": {},
   "source": [
    "No of total features are 13...................\n",
    "\n",
    "#### Numerical data -\n",
    "ApplicantIncome , CoapplicantIncome , LoanAmount ,\n",
    "\n",
    "\n",
    "#### Categiorical columns\n",
    "include Gender , Married , Dependents ,Education , Self Employed ,Loan_Amount_Term,Credit_History,Property_Area\n",
    "### Output Column - \n",
    "Loan_Status"
   ]
  },
  {
   "cell_type": "markdown",
   "id": "543e9017-d0b9-491d-ab95-04898721e51e",
   "metadata": {},
   "source": [
    "## Data preprocessing "
   ]
  },
  {
   "cell_type": "markdown",
   "id": "ab6e2fe5-a083-413b-9b85-5459ff102fa8",
   "metadata": {},
   "source": [
    "### 1. Data Cleaning \n",
    "Handeling null values as no duplicate values are there "
   ]
  },
  {
   "cell_type": "code",
   "execution_count": null,
   "id": "7c7b498d-0f97-4708-ad31-cda5781e763e",
   "metadata": {},
   "outputs": [],
   "source": [
    "df.isnull().mean()*100"
   ]
  },
  {
   "cell_type": "code",
   "execution_count": null,
   "id": "ef7551df-9fd7-4bd0-8bd4-d000b9df4236",
   "metadata": {},
   "outputs": [],
   "source": [
    "type(df)"
   ]
  },
  {
   "cell_type": "code",
   "execution_count": null,
   "id": "5ea0f242-c923-4d59-b7c3-f04eb46a94f3",
   "metadata": {},
   "outputs": [],
   "source": [
    "cols =[idx for idx in df.columns if df[idx].isnull().sum()>0]\n",
    "for idx in cols:\n",
    "    if df[idx].dtype in ['float64' , 'int64']:\n",
    "        df[idx]=df[idx].fillna(df[idx].mean())\n",
    "    else:\n",
    "        df[idx]=df[idx].fillna(df[idx].mode() [0])"
   ]
  },
  {
   "cell_type": "code",
   "execution_count": null,
   "id": "99b1ccb8-6f8c-49db-91e2-e96b81232115",
   "metadata": {},
   "outputs": [],
   "source": [
    "df.isnull().sum()"
   ]
  },
  {
   "cell_type": "markdown",
   "id": "ae324872-4da8-4ff8-8eee-91ce825e86b2",
   "metadata": {
    "jp-MarkdownHeadingCollapsed": true
   },
   "source": [
    "### 2. Outlier detection and management "
   ]
  },
  {
   "cell_type": "markdown",
   "id": "37b3bbe2-6511-4659-9643-050d3cd3dd83",
   "metadata": {},
   "source": [
    "### 2.1 For numerical data"
   ]
  },
  {
   "cell_type": "code",
   "execution_count": null,
   "id": "3f6aaeed-8f17-41aa-af28-89e645b08f5d",
   "metadata": {},
   "outputs": [],
   "source": [
    "df['ApplicantIncome'].plot(kind='box')"
   ]
  },
  {
   "cell_type": "code",
   "execution_count": null,
   "id": "5b93266e-964a-4b17-b6e0-1b2c3934a506",
   "metadata": {},
   "outputs": [],
   "source": [
    "df['CoapplicantIncome'].plot(kind='box')"
   ]
  },
  {
   "cell_type": "code",
   "execution_count": null,
   "id": "5e58b755-e4ac-4712-b449-1a56fb3962cc",
   "metadata": {},
   "outputs": [],
   "source": [
    "df['LoanAmount'].plot(kind='box')"
   ]
  },
  {
   "cell_type": "code",
   "execution_count": null,
   "id": "35955b05-c364-4026-b7b3-a1a609d8ae3c",
   "metadata": {},
   "outputs": [],
   "source": [
    "### We will be using IQR technique \n",
    "newdf=df.copy()\n",
    "list = ['ApplicantIncome','CoapplicantIncome','LoanAmount']\n",
    "for col in list:\n",
    "    per25=newdf[col].quantile(0.25)\n",
    "    per75=newdf[col].quantile(0.75)\n",
    "    IQR = per75 - per25\n",
    "    UL= per75+ 1.5*IQR\n",
    "    LL = per25-1.5*IQR\n",
    "    outlierNumber = newdf[(newdf[col]<LL) | (newdf[col]>UL)]\n",
    "    length = len(outlierNumber)\n",
    "    outlierPercent = (length/len(newdf))*100\n",
    "\n",
    "    print(f\"Outlier percentage in {col}: {outlierPercent}\")"
   ]
  },
  {
   "cell_type": "code",
   "execution_count": null,
   "id": "fb90d879-8cf3-4f19-8c4b-29a512610a2f",
   "metadata": {},
   "outputs": [],
   "source": [
    "# As the number of outlier% is 8.14 in Applicant income so it will be good to cap it \n",
    "newdf['ApplicantIncome'] =np.where(newdf['ApplicantIncome']>UL ,UL,\n",
    "                                   np.where(newdf['ApplicantIncome']<LL , LL,\n",
    "                                           newdf['ApplicantIncome'])\n",
    "                                  )"
   ]
  },
  {
   "cell_type": "code",
   "execution_count": null,
   "id": "4f6650d8-5ccc-40ce-8e95-155e61fe45e3",
   "metadata": {},
   "outputs": [],
   "source": [
    "print(outlierNumber)"
   ]
  },
  {
   "cell_type": "code",
   "execution_count": null,
   "id": "c601ed73-41d0-45ad-aba9-af277cd63446",
   "metadata": {},
   "outputs": [],
   "source": []
  }
 ],
 "metadata": {
  "kernelspec": {
   "display_name": "Python 3 (ipykernel)",
   "language": "python",
   "name": "python3"
  },
  "language_info": {
   "codemirror_mode": {
    "name": "ipython",
    "version": 3
   },
   "file_extension": ".py",
   "mimetype": "text/x-python",
   "name": "python",
   "nbconvert_exporter": "python",
   "pygments_lexer": "ipython3",
   "version": "3.12.4"
  }
 },
 "nbformat": 4,
 "nbformat_minor": 5
}
